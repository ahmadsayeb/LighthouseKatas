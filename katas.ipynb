{
 "cells": [
  {
   "cell_type": "code",
   "execution_count": 4,
   "metadata": {},
   "outputs": [
    {
     "name": "stdout",
     "output_type": "stream",
     "text": [
      "11\n",
      "5\n",
      "126\n"
     ]
    }
   ],
   "source": [
    "def sumLargestNumbers(numbers):\n",
    "    largest = max(numbers)\n",
    "    numbers.remove(max(numbers))\n",
    "    second_largest = max(numbers)\n",
    "    return largest + second_largest\n",
    "\n",
    "print(sumLargestNumbers([1, 10]))\n",
    "print(sumLargestNumbers([1, 2, 3]))\n",
    "print(sumLargestNumbers([10, 4, 34, 6, 92, 2]))"
   ]
  },
  {
   "cell_type": "code",
   "execution_count": 9,
   "metadata": {},
   "outputs": [
    {
     "name": "stdout",
     "output_type": "stream",
     "text": [
      "6\n",
      "9\n",
      "144\n",
      "0\n"
     ]
    }
   ],
   "source": [
    "def conditionalSum(values, condition):\n",
    "    total = 0\n",
    "    if condition == 'even':\n",
    "        for v in values:\n",
    "            if v % 2 ==0:\n",
    "                total += v\n",
    "        return total\n",
    "    \n",
    "    elif condition == 'odd':\n",
    "        for v in values:\n",
    "            if v % 2 == 1:\n",
    "                total += v\n",
    "        return total\n",
    "    else:\n",
    "        return 0\n",
    "    \n",
    "print(conditionalSum([1, 2, 3, 4, 5], \"even\"))\n",
    "print(conditionalSum([1, 2, 3, 4, 5], \"odd\"))\n",
    "print(conditionalSum([13, 88, 12, 44, 99], \"even\"))\n",
    "print(conditionalSum([], \"odd\"))"
   ]
  },
  {
   "cell_type": "code",
   "execution_count": 17,
   "metadata": {},
   "outputs": [
    {
     "name": "stdout",
     "output_type": "stream",
     "text": [
      "3\n",
      "5\n",
      "5\n"
     ]
    }
   ],
   "source": [
    "def numberOfVowels(data):\n",
    "    count = 0\n",
    "    for letter in data:\n",
    "        if letter =='a' or letter == 'e' or letter == 'i' or letter == 'o' or letter=='u':\n",
    "            count += 1\n",
    "    return count\n",
    "print(numberOfVowels(\"orange\"))\n",
    "print(numberOfVowels(\"lighthouse labs\"))\n",
    "print(numberOfVowels(\"aeiou\"))"
   ]
  },
  {
   "cell_type": "code",
   "execution_count": 62,
   "metadata": {},
   "outputs": [
    {
     "name": "stdout",
     "output_type": "stream",
     "text": [
      "{'name': 'Jeremiah', 'course': 'Data'}\n",
      "{'name': 'Domascus', 'course': 'Web'}\n"
     ]
    }
   ],
   "source": [
    "def instructorWithLongestName(instructor):\n",
    "    longest = ''\n",
    "    index = None\n",
    "    for i in range(len(instructor)):\n",
    "        if len(instructor[i]['name']) > len(longest):\n",
    "            longest = instructor[i]['name']\n",
    "            index = i\n",
    "        \n",
    "    return instructor[index]\n",
    "\n",
    "print(instructorWithLongestName([\n",
    "  {\"name\": \"Samuel\", \"course\": \"iOS\"},\n",
    "  {\"name\": \"Jeremiah\", \"course\": \"Data\"},\n",
    "  {\"name\": \"Ophilia\", \"course\": \"Web\"},\n",
    "  {\"name\": \"Donald\", \"course\": \"Web\"}\n",
    "]))\n",
    "\n",
    "print(instructorWithLongestName([\n",
    "  {\"name\": \"Matthew\", \"course\": \"iOS\"},\n",
    "  {\"name\": \"David\", \"course\": \"Data\"},\n",
    "  {\"name\": \"Domascus\", \"course\": \"Web\"}\n",
    "]))\n"
   ]
  },
  {
   "cell_type": "code",
   "execution_count": 230,
   "metadata": {},
   "outputs": [
    {
     "name": "stdout",
     "output_type": "stream",
     "text": [
      "Lighthouse20%Labs\n",
      "Lighthouse20%Labs\n",
      "blue20%is20%greener20%than20%purple20%for20%sure\n"
     ]
    }
   ],
   "source": [
    "def urlEncode(text):\n",
    "    new_array = []\n",
    "    address = ''\n",
    "    for letter in text:\n",
    "        new_array.append(letter)\n",
    "    index = len(new_array)-1\n",
    "    while new_array[index] == ' ':\n",
    "        new_array.pop()\n",
    "        index -= 1\n",
    "    index2 = 0\n",
    "    while new_array[index2] == ' ':\n",
    "        new_array.pop(index2)\n",
    "        \n",
    "    for i in range(len(new_array)):\n",
    "        if new_array[i] == ' ' and i != 0:\n",
    "            address +='20%'\n",
    "        else:\n",
    "            address += new_array[i]\n",
    "    \n",
    "    return address\n",
    "\n",
    "\n",
    "    \n",
    "print(urlEncode(\"Lighthouse Labs\"))\n",
    "print(urlEncode(\" Lighthouse Labs  \"))\n",
    "print(urlEncode(\"blue is greener than purple for sure\"))"
   ]
  },
  {
   "cell_type": "code",
   "execution_count": null,
   "metadata": {},
   "outputs": [],
   "source": [
    " new_array = []\n",
    "    address= ''\n",
    "    for letter in text:\n",
    "        new_array.append(letter)\n",
    "    length = len(new_array)"
   ]
  },
  {
   "cell_type": "code",
   "execution_count": 188,
   "metadata": {},
   "outputs": [
    {
     "name": "stdout",
     "output_type": "stream",
     "text": [
      "[3, 1]\n"
     ]
    }
   ],
   "source": [
    "def whereCanIPark(spots,vehicle):\n",
    "    for row in range(len(spots)):\n",
    "        for cell in range(len(spots[row])):\n",
    "            if vehicle == 'regular':\n",
    "                if spots[row][cell] == 'R':\n",
    "                    result = [cell,row]\n",
    "                    return result\n",
    "            elif vehicle == 'small':\n",
    "                if spots[row][cell] == 'R':\n",
    "                    result = [cell,row]\n",
    "                    return result\n",
    "                elif spots[row][cell] == 'S':\n",
    "                    result = [cell,row]\n",
    "                    return result\n",
    "            elif vehicle == 'motorcycle':\n",
    "                if spots[row][cell] == 'R':\n",
    "                    result = [cell,row]\n",
    "                    return result\n",
    "                elif spots[row][cell] == 'S':\n",
    "                    result = [cell,row]\n",
    "                    return result\n",
    "                elif spots[row][cell] == 'M':\n",
    "                    result = [cell,row]\n",
    "    return False\n",
    "\n",
    "print(whereCanIPark(\n",
    "  [\n",
    "    ['s', 's', 's', 's', 's', 's'],\n",
    "    ['s', 'm', 's', 'S', 'r', 's'],\n",
    "    ['s', 'm', 's', 'S', 'r', 's'],\n",
    "    ['S', 'r', 's', 'm', 'r', 's'],\n",
    "    ['S', 'r', 's', 'm', 'R', 's'],\n",
    "    ['S', 'r', 'S', 'M', 'm', 'S']\n",
    "  ],\n",
    "  'motorcycle'\n",
    "))"
   ]
  },
  {
   "cell_type": "code",
   "execution_count": 193,
   "metadata": {},
   "outputs": [
    {
     "name": "stdout",
     "output_type": "stream",
     "text": [
      "Polluted\n",
      "Polluted\n",
      "Clean\n"
     ]
    }
   ],
   "source": [
    "def checkAir(samples, threshold):\n",
    "    number_of_samples = len(samples)\n",
    "    number_of_dirty = 0\n",
    "    for value in samples:\n",
    "        if value == 'dirty':\n",
    "            number_of_dirty += 1\n",
    "    average = (number_of_dirty)/(number_of_samples)\n",
    "    if average >= threshold:\n",
    "        return 'Polluted'\n",
    "    else:\n",
    "        return 'Clean'\n",
    "\n",
    "print(checkAir(\n",
    "  ['clean', 'clean', 'dirty', 'clean', 'dirty', 'clean', 'clean', 'dirty', 'clean', 'dirty'],\n",
    "  0.3\n",
    "))\n",
    "print(checkAir(\n",
    "  ['dirty', 'dirty', 'dirty', 'dirty', 'clean'],\n",
    "  0.25\n",
    "))\n",
    "print(checkAir(\n",
    "  ['clean', 'dirty', 'clean', 'dirty', 'clean', 'dirty', 'clean'],\n",
    "  0.9\n",
    "))"
   ]
  },
  {
   "cell_type": "code",
   "execution_count": null,
   "metadata": {},
   "outputs": [],
   "source": []
  }
 ],
 "metadata": {
  "kernelspec": {
   "display_name": "Python 3",
   "language": "python",
   "name": "python3"
  },
  "language_info": {
   "codemirror_mode": {
    "name": "ipython",
    "version": 3
   },
   "file_extension": ".py",
   "mimetype": "text/x-python",
   "name": "python",
   "nbconvert_exporter": "python",
   "pygments_lexer": "ipython3",
   "version": "3.8.3"
  }
 },
 "nbformat": 4,
 "nbformat_minor": 4
}
